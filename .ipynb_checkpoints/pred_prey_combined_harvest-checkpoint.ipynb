{
 "cells": [
  {
   "cell_type": "markdown",
   "metadata": {},
   "source": [
    "# This script tests harvest effort across both predator and prey "
   ]
  },
  {
   "cell_type": "code",
   "execution_count": 6,
   "metadata": {},
   "outputs": [],
   "source": [
    "import numpy as np\n",
    "import matplotlib.pyplot as plt\n",
    "from matplotlib import rc\n",
    "import seaborn as sns\n",
    "import pandas as pd\n",
    "from scipy import stats\n",
    "from scipy.optimize import curve_fit\n",
    "from scipy.integrate import odeint\n",
    "from scipy.integrate import solve_ivp"
   ]
  },
  {
   "cell_type": "markdown",
   "metadata": {},
   "source": [
    "## Pred - Prey Model Functions"
   ]
  },
  {
   "cell_type": "code",
   "execution_count": 7,
   "metadata": {},
   "outputs": [],
   "source": [
    "def dNdt(H, P, parameters_dict):\n",
    "    #Unpacking herbivore parameters:\n",
    "    r_H = parameters_dict['r_H'] # growth rate of herbivores\n",
    "    K_H = parameters_dict['K_H'] # carrying capacity of herbivores\n",
    "    theta_H = parameters_dict['theta_H'] # immigration of herbivores\n",
    "    c = parameters_dict['c'] # addition to predator from prey\n",
    "    d = parameters_dict['d'] # value of H when predation half its max value\n",
    "    q_H = parameters_dict['q_H'] # proportionality constant for herbivore harvest\n",
    "    E_H = parameters_dict['E_H'] # Effort for herbivore harvest\n",
    "    #Unpacking predator parameters:\n",
    "    r_P = parameters_dict['r_P'] # growth rate of predator \n",
    "    K_P = parameters_dict['K_P'] # carrying capactiy of predators \n",
    "    b = parameters_dict['b'] # mortality to prey from predator\n",
    "    theta_P = parameters_dict['theta_P'] # immigration of predators  \n",
    "    q_P = parameters_dict['q_P'] # proportionality constant for predators harvest\n",
    "    E_P = parameters_dict['E_P'] # Effort for predator harvest\n",
    "    \n",
    "    #Calculate the derivative \n",
    "    dH = r_H*H*(1-H/K_H) - (c*H*P)/(d+H) + theta_H - q_H*E_H*H\n",
    "    dP = r_P*P*(1-P/K_P) + (b*H*P)/(d+H) + theta_P - q_P*E_P*P\n",
    "    \n",
    "    return dH, dP"
   ]
  },
  {
   "cell_type": "code",
   "execution_count": 8,
   "metadata": {},
   "outputs": [],
   "source": [
    "# Function: numerical solver, 2nd order RK \n",
    "\n",
    "def RK2(H, P, parameters_dict):\n",
    "    H_init = H\n",
    "    P_init = P \n",
    "    \n",
    "    dH1, dP1 = dNdt(H,P,parameters_dict)\n",
    "    \n",
    "    H1 = H + 0.5*dH1\n",
    "    P1 = P + 0.5*dP1\n",
    "    \n",
    "    dH2, dP2 = dNdt(H1,P1,parameters_dict)\n",
    "    \n",
    "    dH_ave = (dH1+dH2)/2 \n",
    "    dP_ave = (dP1+dP2)/2 \n",
    "    \n",
    "    H = H_init + dH_ave\n",
    "    P = P_init + dP_ave\n",
    "    \n",
    "    #Calculate harvest \n",
    "    q_H = parameters_dict['q_H'] #proportionality constant for herbivore harvest \n",
    "    E_H = parameters_dict['E_H'] #Effort for herbivore harvest\n",
    "    \n",
    "    q_P = parameters_dict['q_P'] #proportionality constant for herbivore harvest \n",
    "    E_P = parameters_dict['E_P'] #Effort for herbivore harvest\n",
    "    \n",
    "    herbivore_harvest = q_H*E_H*H\n",
    "    predator_harvest = q_P*E_P*P\n",
    "    \n",
    "    return H, P, herbivore_harvest, predator_harvest"
   ]
  },
  {
   "cell_type": "code",
   "execution_count": 9,
   "metadata": {},
   "outputs": [],
   "source": [
    "# Function to run the model \n",
    "\n",
    "def run_model(INIT_H, INIT_P, parameters_dict):\n",
    "    \n",
    "    numyears = parameters_dict['numyears']\n",
    "    \n",
    "    H_array = np.zeros(numyears+1)\n",
    "    P_array = np.zeros(numyears+1)\n",
    "    H_harvest_array = np.zeros(numyears+1)\n",
    "    P_harvest_array = np.zeros(numyears+1)\n",
    "    \n",
    "    H_array[0] = INIT_H #Starting biomass of herbivore \n",
    "    P_array[0] = INIT_P #Starting biomass of predator \n",
    "    H_harvest_array[0] = 0\n",
    "    P_harvest_array[0] = 0\n",
    "    \n",
    "    for i in np.arange(0,numyears):\n",
    "        H_array[i+1], P_array[i+1], H_harvest_array[i+1], P_harvest_array[i+1] \\\n",
    "            = RK2(H_array[i], P_array[i], parameters_dict)\n",
    "        i = i+1\n",
    "    \n",
    "    return H_array, P_array, H_harvest_array, P_harvest_array"
   ]
  },
  {
   "cell_type": "markdown",
   "metadata": {},
   "source": [
    "## Run model and generate fishing heatmap"
   ]
  },
  {
   "cell_type": "code",
   "execution_count": 10,
   "metadata": {},
   "outputs": [],
   "source": [
    "#Run model simulation\n",
    "\n",
    "numyears = 100 # number of years to run simulation \n",
    "\n",
    "#Herbivore parameters:\n",
    "r_H = 0.5 # growth rate of herbivores\n",
    "K_H = 5000 # carrying capacity of herbivores\n",
    "theta_H = 50 # immigration of herbivores\n",
    "c = 0.4 #additional mortality of H \n",
    "d = 500 # value of H when predation half its max value \n",
    "q_H = 1. # proportionality constant for herbivore harvest \n",
    "E_H = 0.0 # Effort for herbivore harvest (0.05 = limit cycle, 0.2 = stable state)\n",
    "#Predator parameters:\n",
    "r_P = 0.3 # growth rate of predator \n",
    "K_P = 2000 # carrying capactiy of predators\n",
    "b = 0.4 # additional growth of P due to H\n",
    "theta_P = 0 # immigration of predators \n",
    "q_P = 1. # proportionality constant for predator harvest \n",
    "E_P = 0.0 # Effort for predator harvest\n",
    "\n",
    "parameters_dict = {'numyears': numyears, \n",
    "                  'r_H': r_H, \n",
    "                  'K_H': K_H, \n",
    "                  'theta_H': theta_H,\n",
    "                  'c': c, \n",
    "                  'd': d, \n",
    "                  'E_H': E_H,\n",
    "                  'q_H': q_H, \n",
    "                  'r_P': r_P,\n",
    "                  'K_P': K_P,\n",
    "                  'theta_P': theta_P, \n",
    "                  'b': b,\n",
    "                  'q_P': q_P, \n",
    "                  'E_P': E_P,\n",
    "                  }\n",
    "\n",
    "H0 = 1000\n",
    "P0 = 100\n",
    "\n",
    "H_array, P_array, H_harvest_array, P_harvest_array = run_model(H0, P0, parameters_dict)"
   ]
  },
  {
   "cell_type": "code",
   "execution_count": 11,
   "metadata": {},
   "outputs": [],
   "source": [
    "size = 50\n",
    "heatmap_H = np.zeros((size, size))\n",
    "heatmap_P = np.zeros((size, size))\n",
    "heatmap_T = np.zeros((size, size))\n",
    "E_H_array = np.linspace(0, 1.0, size)\n",
    "E_P_array = np.linspace(0, 1.0, size)\n",
    "\n",
    "#Loop through E_P and E_H values from 0-1 \n",
    "for i in np.arange(0, size):\n",
    "    for j in np.arange(0, size):\n",
    "        E_H = E_H_array[i]\n",
    "        E_P = E_P_array[j] \n",
    "        parameters_dict['E_H'] = E_H \n",
    "        parameters_dict['E_P'] = E_P\n",
    "        H_array, P_array, H_harvest_array, P_harvest_array = run_model(H0, P0, parameters_dict)\n",
    "        H_last = np.mean(H_array[-25:-1])\n",
    "        P_last = np.mean(P_array[-25:-1])\n",
    "        T_last = np.mean(np.add(H_array[-25:-1], P_array[-25:-1]))\n",
    "        heatmap_T[i,j] = T_last\n",
    "        heatmap_H[i,j] = H_last\n",
    "        heatmap_P[i,j] = P_last\n",
    "        j+=1\n",
    "    i+=1"
   ]
  },
  {
   "cell_type": "code",
   "execution_count": 12,
   "metadata": {},
   "outputs": [
    {
     "data": {
      "image/png": "[encoded data removed]",
      "text/plain": [
       "<Figure size 1296x360 with 6 Axes>"
      ]
     },
     "metadata": {
      "needs_background": "light"
     },
     "output_type": "display_data"
    }
   ],
   "source": [
    "fig, (ax0, ax1, ax2) = plt.subplots(ncols=3, figsize = (18,5))\n",
    "\n",
    "im = ax0.pcolormesh(E_P_array, E_H_array, heatmap_H, cmap=plt.cm.get_cmap('plasma'),shading='auto')\n",
    "fig.colorbar(im, ax=ax0, orientation=\"vertical\", pad = 0.05)\n",
    "ax0.set_title(label=\"(A) Prey Abundance\", fontsize=18)\n",
    "ax0.set_ylabel(\"Prey Harvest Effort\", fontsize=16)\n",
    "ax0.set_xlabel(\"Predator Harvest Effort\", fontsize=16)\n",
    "ax0.tick_params(labelsize=14)\n",
    "\n",
    "im = ax1.pcolormesh(E_P_array, E_H_array, heatmap_P, cmap=plt.cm.get_cmap('plasma'),shading='auto')\n",
    "fig.colorbar(im, ax=ax1, orientation=\"vertical\", pad = 0.05)\n",
    "ax1.set_title(label=\"(B) Predator Abundance\", fontsize=18)\n",
    "ax1.set_ylabel(\"Prey Harvest Effort\", fontsize=16)\n",
    "ax1.set_xlabel(\"Predator Harvest Effort\", fontsize=16)\n",
    "ax1.tick_params(labelsize=14)\n",
    "\n",
    "im = ax2.pcolormesh(E_H_array, E_P_array, heatmap_T, cmap=plt.cm.get_cmap('plasma'),shading='auto')\n",
    "fig.colorbar(im, ax=ax2, orientation= \"vertical\", pad = 0.05)\n",
    "ax2.set_title(label=\"(C) Total Abundance\", fontsize=18)\n",
    "ax2.set_ylabel(\"Prey Harvest Effort\", fontsize=16)\n",
    "ax2.set_xlabel(\"Predator Harvest Effort\", fontsize=16)\n",
    "ax2.tick_params(labelsize=14)"
   ]
  },
  {
   "cell_type": "code",
   "execution_count": null,
   "metadata": {},
   "outputs": [],
   "source": []
  },
  {
   "cell_type": "code",
   "execution_count": null,
   "metadata": {},
   "outputs": [],
   "source": []
  },
  {
   "cell_type": "code",
   "execution_count": null,
   "metadata": {},
   "outputs": [],
   "source": []
  },
  {
   "cell_type": "code",
   "execution_count": null,
   "metadata": {},
   "outputs": [],
   "source": []
  },
  {
   "cell_type": "code",
   "execution_count": null,
   "metadata": {},
   "outputs": [],
   "source": []
  },
  {
   "cell_type": "code",
   "execution_count": null,
   "metadata": {},
   "outputs": [],
   "source": []
  }
 ],
 "metadata": {
  "kernelspec": {
   "display_name": "py36test",
   "language": "python",
   "name": "py36test"
  },
  "language_info": {
   "codemirror_mode": {
    "name": "ipython",
    "version": 3
   },
   "file_extension": ".py",
   "mimetype": "text/x-python",
   "name": "python",
   "nbconvert_exporter": "python",
   "pygments_lexer": "ipython3",
   "version": "3.6.10"
  }
 },
 "nbformat": 4,
 "nbformat_minor": 4
}
