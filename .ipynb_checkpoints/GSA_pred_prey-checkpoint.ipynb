{
 "cells": [
  {
   "cell_type": "markdown",
   "metadata": {},
   "source": [
    "# This Script Performs a Global Sensitivity Analysis for the Predator-Prey Framework"
   ]
  },
  {
   "cell_type": "code",
   "execution_count": 8,
   "metadata": {},
   "outputs": [],
   "source": [
    "import numpy as np\n",
    "import matplotlib.pyplot as plt\n",
    "from matplotlib import rc\n",
    "import seaborn as sns\n",
    "import pandas as pd\n",
    "from scipy import stats\n",
    "from scipy.optimize import curve_fit\n",
    "from scipy.integrate import odeint\n",
    "from scipy.integrate import solve_ivp\n",
    "import sklearn\n",
    "from sklearn.ensemble import RandomForestRegressor\n",
    "from sklearn.metrics import mean_squared_error, r2_score"
   ]
  },
  {
   "cell_type": "markdown",
   "metadata": {},
   "source": [
    "## Pred - Prey Model Functions"
   ]
  },
  {
   "cell_type": "code",
   "execution_count": 2,
   "metadata": {},
   "outputs": [],
   "source": [
    "def dNdt(H, P, parameters_dict):\n",
    "    #Unpacking herbivore parameters:\n",
    "    r_H = parameters_dict['r_H'] # growth rate of herbivores\n",
    "    K_H = parameters_dict['K_H'] # carrying capacity of herbivores\n",
    "    theta_H = parameters_dict['theta_H'] # immigration of herbivores\n",
    "    c = parameters_dict['c'] # addition to predator from prey\n",
    "    d = parameters_dict['d'] # value of H when predation half its max value\n",
    "    q_H = parameters_dict['q_H'] # proportionality constant for herbivore harvest\n",
    "    E_H = parameters_dict['E_H'] # Effort for herbivore harvest\n",
    "    #Unpacking predator parameters:\n",
    "    r_P = parameters_dict['r_P'] # growth rate of predator \n",
    "    K_P = parameters_dict['K_P'] # carrying capactiy of predators \n",
    "    b = parameters_dict['b'] # mortality to prey from predator\n",
    "    theta_P = parameters_dict['theta_P'] # immigration of predators  \n",
    "    q_P = parameters_dict['q_P'] # proportionality constant for predators harvest\n",
    "    E_P = parameters_dict['E_P'] # Effort for predator harvest\n",
    "    \n",
    "    #Calculate the derivative \n",
    "    dH = r_H*H*(1-H/K_H) - (c*H*P)/(d+H) + theta_H - q_H*E_H*H\n",
    "    dP = r_P*P*(1-P/K_P) + (b*H*P)/(d+H) + theta_P - q_P*E_P*P\n",
    "    \n",
    "    return dH, dP"
   ]
  },
  {
   "cell_type": "code",
   "execution_count": 3,
   "metadata": {},
   "outputs": [],
   "source": [
    "# Function: numerical solver, 2nd order RK \n",
    "\n",
    "def RK2(H, P, parameters_dict):\n",
    "    H_init = H\n",
    "    P_init = P \n",
    "    \n",
    "    dH1, dP1 = dNdt(H,P,parameters_dict)\n",
    "    \n",
    "    H1 = H + 0.5*dH1\n",
    "    P1 = P + 0.5*dP1\n",
    "    \n",
    "    dH2, dP2 = dNdt(H1,P1,parameters_dict)\n",
    "    \n",
    "    dH_ave = (dH1+dH2)/2 \n",
    "    dP_ave = (dP1+dP2)/2 \n",
    "    \n",
    "    H = H_init + dH_ave\n",
    "    P = P_init + dP_ave\n",
    "    \n",
    "    #Calculate harvest \n",
    "    q_H = parameters_dict['q_H'] #proportionality constant for herbivore harvest \n",
    "    E_H = parameters_dict['E_H'] #Effort for herbivore harvest\n",
    "    \n",
    "    q_P = parameters_dict['q_P'] #proportionality constant for herbivore harvest \n",
    "    E_P = parameters_dict['E_P'] #Effort for herbivore harvest\n",
    "    \n",
    "    herbivore_harvest = q_H*E_H*H\n",
    "    predator_harvest = q_P*E_P*P\n",
    "    \n",
    "    return H, P, herbivore_harvest, predator_harvest"
   ]
  },
  {
   "cell_type": "code",
   "execution_count": 4,
   "metadata": {},
   "outputs": [],
   "source": [
    "# Function to run the model \n",
    "\n",
    "def run_model(INIT_H, INIT_P, parameters_dict):\n",
    "    \n",
    "    numyears = parameters_dict['numyears']\n",
    "    \n",
    "    H_array = np.zeros(numyears+1)\n",
    "    P_array = np.zeros(numyears+1)\n",
    "    H_harvest_array = np.zeros(numyears+1)\n",
    "    P_harvest_array = np.zeros(numyears+1)\n",
    "    \n",
    "    H_array[0] = INIT_H #Starting biomass of herbivore \n",
    "    P_array[0] = INIT_P #Starting biomass of predator \n",
    "    H_harvest_array[0] = 0\n",
    "    P_harvest_array[0] = 0\n",
    "    \n",
    "    for i in np.arange(0,numyears):\n",
    "        H_array[i+1], P_array[i+1], H_harvest_array[i+1], P_harvest_array[i+1] \\\n",
    "            = RK2(H_array[i], P_array[i], parameters_dict)\n",
    "        i = i+1\n",
    "    \n",
    "    return H_array, P_array, H_harvest_array, P_harvest_array"
   ]
  },
  {
   "cell_type": "markdown",
   "metadata": {},
   "source": [
    "## Run Model and Test Plot Trajectories"
   ]
  },
  {
   "cell_type": "code",
   "execution_count": 5,
   "metadata": {},
   "outputs": [],
   "source": [
    "#Run model simulation\n",
    "\n",
    "numyears = 100 # number of years to run simulation \n",
    "\n",
    "#Herbivore parameters:\n",
    "r_H = 0.4 # growth rate of herbivores\n",
    "K_H = 5000 # carrying capacity of herbivores\n",
    "theta_H = 50 # immigration of herbivores\n",
    "c = 0.4 #additional mortality of H \n",
    "d = 500 # value of H when predation half its max value \n",
    "q_H = 1. # proportionality constant for herbivore harvest \n",
    "E_H = 0.0 # Effort for herbivore harvest (0.05 = limit cycle, 0.2 = stable state)\n",
    "#Predator parameters:\n",
    "r_P = 0.2 # growth rate of predator \n",
    "K_P = 2000 # carrying capactiy of predators\n",
    "b = 0.4 # additional growth of P due to H\n",
    "theta_P = 10 # immigration of predators \n",
    "q_P = 1. # proportionality constant for predator harvest \n",
    "E_P = 0.0 # Effort for predator harvest\n",
    "\n",
    "parameters_dict = {'numyears': numyears, \n",
    "                  'r_H': r_H, \n",
    "                  'K_H': K_H, \n",
    "                  'theta_H': theta_H,\n",
    "                  'c': c, \n",
    "                  'd': d, \n",
    "                  'E_H': E_H,\n",
    "                  'q_H': q_H, \n",
    "                  'r_P': r_P,\n",
    "                  'K_P': K_P,\n",
    "                  'theta_P': theta_P, \n",
    "                  'b': b,\n",
    "                  'q_P': q_P, \n",
    "                  'E_P': E_P,\n",
    "                  }\n",
    "\n",
    "H0 = 100\n",
    "P0 = 10\n",
    "\n",
    "H_array, P_array, H_harvest_array, P_harvest_array = run_model(H0, P0, parameters_dict)"
   ]
  },
  {
   "cell_type": "code",
   "execution_count": 7,
   "metadata": {},
   "outputs": [
    {
     "data": {
      "text/plain": [
       "Text(0.5, 0, 'Time (in years)')"
      ]
     },
     "execution_count": 7,
     "metadata": {},
     "output_type": "execute_result"
    },
    {
     "data": {
      "image/png": "[encoded data removed]",
      "text/plain": [
       "<Figure size 432x288 with 1 Axes>"
      ]
     },
     "metadata": {
      "needs_background": "light"
     },
     "output_type": "display_data"
    }
   ],
   "source": [
    "plt.plot(H_array, label='Prey')\n",
    "plt.plot(P_array, label='Predator')\n",
    "plt.legend()\n",
    "plt.ylabel(\"Abundance\")\n",
    "plt.xlabel(\"Time (in years)\")"
   ]
  },
  {
   "cell_type": "markdown",
   "metadata": {},
   "source": [
    "## Running through params of interest"
   ]
  },
  {
   "cell_type": "code",
   "execution_count": 15,
   "metadata": {},
   "outputs": [],
   "source": [
    "numyears = 100 # number of years to run simulation \n",
    "\n",
    "#Herbivore parameters:\n",
    "r_H = 0.4 # growth rate of herbivores\n",
    "K_H = 5000 # carrying capacity of herbivores\n",
    "theta_H = 50 # immigration of herbivores\n",
    "c = 0.4 #additional mortality of H \n",
    "d = 500 # value of H when predation half its max value \n",
    "q_H = 1. # proportionality constant for herbivore harvest \n",
    "E_H = 0.1 # Effort for herbivore harvest (0.05 = limit cycle, 0.2 = stable state)\n",
    "#Predator parameters:\n",
    "r_P = 0.2 # growth rate of predator \n",
    "K_P = 2000 # carrying capactiy of predators\n",
    "b = 0.4 # additional growth of P due to H\n",
    "theta_P = 10 # immigration of predators \n",
    "q_P = 1. # proportionality constant for predator harvest \n",
    "E_P = 0.1 # Effort for predator harvest\n",
    "\n",
    "parameters_dict = {'numyears': numyears, \n",
    "                  'r_H': r_H, \n",
    "                  'K_H': K_H, \n",
    "                  'theta_H': theta_H,\n",
    "                  'c': c, \n",
    "                  'd': d, \n",
    "                  'E_H': E_H,\n",
    "                  'q_H': q_H, \n",
    "                  'r_P': r_P,\n",
    "                  'K_P': K_P,\n",
    "                  'theta_P': theta_P, \n",
    "                  'b': b,\n",
    "                  'q_P': q_P, \n",
    "                  'E_P': E_P,\n",
    "                  }"
   ]
  },
  {
   "cell_type": "markdown",
   "metadata": {},
   "source": [
    "## Function to run through params at +/- 10%"
   ]
  },
  {
   "cell_type": "code",
   "execution_count": 16,
   "metadata": {},
   "outputs": [],
   "source": [
    "# Function to vary parameters and document all parameter values\n",
    "def run_model_with_varying_params(parameters_dict, params_to_vary, variation_range, H0, P0):\n",
    "    # Initialize an empty list to store all results\n",
    "    all_results = []\n",
    "    \n",
    "    # Loop through each parameter to vary\n",
    "    for param in params_to_vary:\n",
    "        # Store the original value of the parameter\n",
    "        original_value = parameters_dict[param]\n",
    "        \n",
    "        # Generate values to vary the parameter within the specified range\n",
    "        varied_values = np.linspace(\n",
    "            original_value * (1 - variation_range),  # Lower bound\n",
    "            original_value * (1 + variation_range),  # Upper bound\n",
    "            10  # Number of variations (adjustable)\n",
    "        )\n",
    "        \n",
    "        # Loop through each varied value for the current parameter\n",
    "        for value in varied_values:\n",
    "            # Update the parameter in the dictionary\n",
    "            parameters_dict[param] = value\n",
    "            \n",
    "            # Run the model with the updated parameters\n",
    "            H_array, P_array, H_harvest_array, P_harvest_array = run_model(H0, P0, parameters_dict)\n",
    "            \n",
    "            # Create a dictionary to store the results for this run\n",
    "            result = {\n",
    "                'H_final': H_array[-1],\n",
    "                'P_final': P_array[-1]\n",
    "            }\n",
    "            \n",
    "            # Add all parameter values to the result\n",
    "            result.update(parameters_dict)\n",
    "            \n",
    "            # Append the result to the list\n",
    "            all_results.append(result)\n",
    "        \n",
    "        # Reset the parameter to its original value\n",
    "        parameters_dict[param] = original_value\n",
    "    \n",
    "    # Convert the results list to a DataFrame\n",
    "    results_df = pd.DataFrame(all_results)\n",
    "    return results_df"
   ]
  },
  {
   "cell_type": "markdown",
   "metadata": {},
   "source": [
    "## Testing Function to Make Sure it works"
   ]
  },
  {
   "cell_type": "code",
   "execution_count": 17,
   "metadata": {},
   "outputs": [
    {
     "name": "stdout",
     "output_type": "stream",
     "text": [
      "       H_final      P_final  numyears       r_H     K_H  theta_H    c      d  \\\n",
      "0    61.293993  1503.324163       100  0.360000  5000.0     50.0  0.4  500.0   \n",
      "1    61.853965  1506.725268       100  0.368889  5000.0     50.0  0.4  500.0   \n",
      "2    62.422924  1510.174687       100  0.377778  5000.0     50.0  0.4  500.0   \n",
      "3    63.001067  1513.673318       100  0.386667  5000.0     50.0  0.4  500.0   \n",
      "4    63.588595  1517.222081       100  0.395556  5000.0     50.0  0.4  500.0   \n",
      "..         ...          ...       ...       ...     ...      ...  ...    ...   \n",
      "125  63.654374  1522.429934       100  0.400000  5000.0     50.0  0.4  500.0   \n",
      "126  63.199369  1529.214686       100  0.400000  5000.0     50.0  0.4  500.0   \n",
      "127  62.754846  1535.942031       100  0.400000  5000.0     50.0  0.4  500.0   \n",
      "128  62.320396  1542.613436       100  0.400000  5000.0     50.0  0.4  500.0   \n",
      "129  61.895629  1549.230306       100  0.400000  5000.0     50.0  0.4  500.0   \n",
      "\n",
      "     E_H  q_H  r_P     K_P  theta_P         b  q_P  E_P  \n",
      "0    0.1  1.0  0.2  2000.0     10.0  0.400000  1.0  0.1  \n",
      "1    0.1  1.0  0.2  2000.0     10.0  0.400000  1.0  0.1  \n",
      "2    0.1  1.0  0.2  2000.0     10.0  0.400000  1.0  0.1  \n",
      "3    0.1  1.0  0.2  2000.0     10.0  0.400000  1.0  0.1  \n",
      "4    0.1  1.0  0.2  2000.0     10.0  0.400000  1.0  0.1  \n",
      "..   ...  ...  ...     ...      ...       ...  ...  ...  \n",
      "125  0.1  1.0  0.2  2000.0     10.0  0.404444  1.0  0.1  \n",
      "126  0.1  1.0  0.2  2000.0     10.0  0.413333  1.0  0.1  \n",
      "127  0.1  1.0  0.2  2000.0     10.0  0.422222  1.0  0.1  \n",
      "128  0.1  1.0  0.2  2000.0     10.0  0.431111  1.0  0.1  \n",
      "129  0.1  1.0  0.2  2000.0     10.0  0.440000  1.0  0.1  \n",
      "\n",
      "[130 rows x 16 columns]\n"
     ]
    }
   ],
   "source": [
    "# Specify parameters to vary and their variation range\n",
    "params_to_vary = ['r_H', 'K_H','theta_H', 'c', 'd', 'E_H','q_H','r_P','K_P', 'E_P','q_P', 'theta_P', 'b']  # Parameters to vary\n",
    "variation_range = 0.1  # ±10% variation\n",
    "H0 = 100\n",
    "P0 = 10\n",
    "\n",
    "\n",
    "# Run the function to vary parameters and collect results\n",
    "results_df = run_model_with_varying_params(parameters_dict, params_to_vary, variation_range, H0, P0)\n",
    "\n",
    "# Display all columns in the DataFrame\n",
    "pd.set_option('display.max_columns', None)\n",
    "print(results_df)\n",
    "\n",
    "# Optionally save to a CSV\n",
    "results_df.to_csv('data/pred_prey_data.csv', index=False)"
   ]
  },
  {
   "cell_type": "markdown",
   "metadata": {},
   "source": [
    "## Run RF Analysis"
   ]
  },
  {
   "cell_type": "code",
   "execution_count": 18,
   "metadata": {},
   "outputs": [
    {
     "name": "stdout",
     "output_type": "stream",
     "text": [
      "Mean Squared Error: 4.25092703526785\n",
      "R-squared: 0.9893429684224402\n"
     ]
    }
   ],
   "source": [
    "data = pd.read_csv(\"data/pred_prey_data.csv\")\n",
    "\n",
    "X1 = data.iloc[:, 2:17]  # Columns 4-28 are explanatory\n",
    "Y1 = data.iloc[:, 0:2]   # Columns 0-4 are response variables\n",
    "\n",
    "regressor = RandomForestRegressor(n_estimators=100, random_state=42)\n",
    "\n",
    "regressor.fit(X1, Y1)\n",
    "\n",
    "# Predict using the model\n",
    "predictions = regressor.predict(X1)\n",
    "\n",
    "# Calculate Mean Squared Error\n",
    "mse = mean_squared_error(Y1, predictions)\n",
    "print(f'Mean Squared Error: {mse}')\n",
    "\n",
    "# Calculate R-squared\n",
    "r2 = r2_score(Y1, predictions)\n",
    "print(f'R-squared: {r2}')"
   ]
  },
  {
   "cell_type": "code",
   "execution_count": 19,
   "metadata": {},
   "outputs": [
    {
     "name": "stdout",
     "output_type": "stream",
     "text": [
      "Feature Importances:\n",
      "[0.00000000e+00 1.07013668e-02 2.06948757e-04 3.90698892e-02\n",
      " 7.60556555e-02 8.77789514e-03 7.71852306e-04 7.38579786e-04\n",
      " 4.22505958e-02 3.99603043e-01 8.34454157e-04 3.73914191e-02\n",
      " 1.90385857e-01 1.93212443e-01]\n"
     ]
    },
    {
     "data": {
      "image/png": "[encoded data removed]",
      "text/plain": [
       "<Figure size 720x432 with 1 Axes>"
      ]
     },
     "metadata": {
      "needs_background": "light"
     },
     "output_type": "display_data"
    }
   ],
   "source": [
    "importances1 = regressor.feature_importances_\n",
    "\n",
    "# Print importances\n",
    "print(\"Feature Importances:\")\n",
    "print(importances1)\n",
    "\n",
    "# Set up labels for the features (adjust based on your column names)\n",
    "plotLabs1 = X1.columns  # Using column names directly for labeling\n",
    "\n",
    "# Bar plot of importances\n",
    "plt.figure(figsize=(10, 6))\n",
    "plt.bar(plotLabs1, importances1, align=\"center\")\n",
    "plt.xticks(rotation=90) \n",
    "plt.xlabel(\"Parameters\")\n",
    "plt.ylabel(\"Importance\")\n",
    "plt.title(\"Parameter Importance\")\n",
    "plt.tight_layout()\n",
    "plt.show()"
   ]
  },
  {
   "cell_type": "code",
   "execution_count": 21,
   "metadata": {},
   "outputs": [],
   "source": [
    "# Define the list of columns to keep\n",
    "columns_to_keep = ['r_H', 'K_H','theta_H', 'c', 'd', 'E_H','q_H','r_P','K_P', 'E_P','q_P', 'theta_P', 'b']\n",
    "\n",
    "# Filter the columns and importances based on columns_to_keep\n",
    "filtered_columns = [col for col in X1.columns if col in columns_to_keep]\n",
    "filtered_importances1 = [importance for col, importance in zip(X1.columns, importances1) if col in columns_to_keep]\n",
    "\n",
    "# LaTeX labels for filtered columns\n",
    "filtered_labels = [f\"${col}$\" for col in filtered_columns]"
   ]
  },
  {
   "cell_type": "code",
   "execution_count": 28,
   "metadata": {},
   "outputs": [
    {
     "data": {
      "image/png": "[encoded data removed]",
      "text/plain": [
       "<Figure size 720x432 with 1 Axes>"
      ]
     },
     "metadata": {
      "needs_background": "light"
     },
     "output_type": "display_data"
    }
   ],
   "source": [
    "# Sort importances and labels for better visualization\n",
    "sorted_indices = np.argsort(filtered_importances1)[::-1]\n",
    "sorted_importances = np.array(filtered_importances1)[sorted_indices]\n",
    "sorted_labels = np.array(filtered_labels)[sorted_indices]\n",
    "\n",
    "# Create the bar plot\n",
    "plt.figure(figsize=(10, 6))\n",
    "plt.barh(sorted_labels, sorted_importances)\n",
    "\n",
    "# Add the importance values next to the bars\n",
    "for i, val in enumerate(sorted_importances):\n",
    "    plt.text(val + 0.01, i, f\"{val:.2f}\", va='center')\n",
    "\n",
    "# Add labels and title\n",
    "plt.xlabel(\"Importance Values\", fontsize=16)\n",
    "plt.ylabel(\"Parameters\", fontsize=16)\n",
    "#plt.title(\"Feature Importances\", fontsize=16)\n",
    "plt.xlim(0, 0.5)\n",
    "\n",
    "# Invert the y-axis to have the most important features at the top\n",
    "plt.gca().invert_yaxis()\n",
    "\n",
    "# Show the plot\n",
    "plt.tight_layout()\n",
    "plt.show()"
   ]
  },
  {
   "cell_type": "code",
   "execution_count": null,
   "metadata": {},
   "outputs": [],
   "source": []
  },
  {
   "cell_type": "code",
   "execution_count": null,
   "metadata": {},
   "outputs": [],
   "source": []
  },
  {
   "cell_type": "code",
   "execution_count": null,
   "metadata": {},
   "outputs": [],
   "source": []
  },
  {
   "cell_type": "code",
   "execution_count": null,
   "metadata": {},
   "outputs": [],
   "source": []
  },
  {
   "cell_type": "code",
   "execution_count": null,
   "metadata": {},
   "outputs": [],
   "source": []
  }
 ],
 "metadata": {
  "kernelspec": {
   "display_name": "py36test",
   "language": "python",
   "name": "py36test"
  },
  "language_info": {
   "codemirror_mode": {
    "name": "ipython",
    "version": 3
   },
   "file_extension": ".py",
   "mimetype": "text/x-python",
   "name": "python",
   "nbconvert_exporter": "python",
   "pygments_lexer": "ipython3",
   "version": "3.6.10"
  }
 },
 "nbformat": 4,
 "nbformat_minor": 4
}
