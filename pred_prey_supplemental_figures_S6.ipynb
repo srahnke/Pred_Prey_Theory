{
 "cells": [
  {
   "cell_type": "markdown",
   "metadata": {},
   "source": [
    "# This script performs the analysis in the supplemental Figure S6:\n",
    "\n",
    "### Qualitative outcomes across $b$, $c$, values and $E_P$ "
   ]
  },
  {
   "cell_type": "code",
   "execution_count": 1,
   "metadata": {},
   "outputs": [],
   "source": [
    "import numpy as np\n",
    "import matplotlib.pyplot as plt\n",
    "from matplotlib.colors import ListedColormap\n",
    "from matplotlib.gridspec import GridSpec\n",
    "from mpl_toolkits.axes_grid1 import make_axes_locatable\n",
    "from matplotlib import rc\n",
    "import seaborn as sns\n",
    "import pandas as pd\n",
    "from scipy import stats\n",
    "from scipy.optimize import curve_fit\n",
    "from scipy.integrate import odeint\n",
    "from scipy.integrate import solve_ivp\n",
    "from matplotlib.patches import Patch\n",
    "from scipy.signal import find_peaks\n",
    "import matplotlib.patches as mpatches\n",
    "import matplotlib.pyplot as plt \n",
    "from matplotlib.colors import BoundaryNorm\n",
    "import pickle"
   ]
  },
  {
   "cell_type": "markdown",
   "metadata": {},
   "source": [
    "## Pred - Prey Model Functions"
   ]
  },
  {
   "cell_type": "code",
   "execution_count": 2,
   "metadata": {},
   "outputs": [],
   "source": [
    "def dNdt(H, P, parameters_dict):\n",
    "    #Unpacking herbivore parameters:\n",
    "    r_H = parameters_dict['r_H'] # growth rate of herbivores\n",
    "    K_H = parameters_dict['K_H'] # carrying capacity of herbivores\n",
    "    theta_H = parameters_dict['theta_H'] # immigration of herbivores\n",
    "    c = parameters_dict['c'] # addition to predator from prey\n",
    "    d = parameters_dict['d'] # value of H when predation half its max value\n",
    "    q_H = parameters_dict['q_H'] # proportionality constant for herbivore harvest\n",
    "    E_H = parameters_dict['E_H'] # Effort for herbivore harvest\n",
    "    #Unpacking predator parameters:\n",
    "    r_P = parameters_dict['r_P'] # growth rate of predator \n",
    "    K_P = parameters_dict['K_P'] # carrying capactiy of predators \n",
    "    b = parameters_dict['b'] # mortality to prey from predator\n",
    "    theta_P = parameters_dict['theta_P'] # immigration of predators  \n",
    "    q_P = parameters_dict['q_P'] # proportionality constant for predators harvest\n",
    "    E_P = parameters_dict['E_P'] # Effort for predator harvest\n",
    "    \n",
    "    #Calculate the derivative \n",
    "    dH = r_H*H*(1-H/K_H) - (c*H*P)/(d+H) + theta_H - q_H*E_H*H\n",
    "    dP = r_P*P*(1-P/K_P) + (b*H*P)/(d+H) + theta_P - q_P*E_P*P\n",
    "    \n",
    "    return dH, dP"
   ]
  },
  {
   "cell_type": "code",
   "execution_count": 3,
   "metadata": {},
   "outputs": [],
   "source": [
    "# Function: numerical solver, 2nd order RK \n",
    "\n",
    "def RK2(H, P, parameters_dict):\n",
    "    H_init = H\n",
    "    P_init = P \n",
    "    \n",
    "    dH1, dP1 = dNdt(H,P,parameters_dict)\n",
    "    \n",
    "    H1 = H + 0.5*dH1\n",
    "    P1 = P + 0.5*dP1\n",
    "    \n",
    "    dH2, dP2 = dNdt(H1,P1,parameters_dict)\n",
    "    \n",
    "    dH_ave = (dH1+dH2)/2 \n",
    "    dP_ave = (dP1+dP2)/2 \n",
    "    \n",
    "    H = H_init + dH_ave\n",
    "    P = P_init + dP_ave\n",
    "    \n",
    "    #Calculate harvest \n",
    "    q_H = parameters_dict['q_H'] #proportionality constant for herbivore harvest \n",
    "    E_H = parameters_dict['E_H'] #Effort for herbivore harvest\n",
    "    \n",
    "    q_P = parameters_dict['q_P'] #proportionality constant for herbivore harvest \n",
    "    E_P = parameters_dict['E_P'] #Effort for herbivore harvest\n",
    "    \n",
    "    herbivore_harvest = q_H*E_H*H\n",
    "    predator_harvest = q_P*E_P*P\n",
    "    \n",
    "    return H, P, herbivore_harvest, predator_harvest"
   ]
  },
  {
   "cell_type": "code",
   "execution_count": 4,
   "metadata": {},
   "outputs": [],
   "source": [
    "# Function to run the model \n",
    "\n",
    "def run_model(INIT_H, INIT_P, parameters_dict):\n",
    "    \n",
    "    numyears = parameters_dict['numyears']\n",
    "    \n",
    "    H_array = np.zeros(numyears+1)\n",
    "    P_array = np.zeros(numyears+1)\n",
    "    H_harvest_array = np.zeros(numyears+1)\n",
    "    P_harvest_array = np.zeros(numyears+1)\n",
    "    \n",
    "    H_array[0] = INIT_H #Starting biomass of herbivore \n",
    "    P_array[0] = INIT_P #Starting biomass of predator \n",
    "    H_harvest_array[0] = 0\n",
    "    P_harvest_array[0] = 0\n",
    "    \n",
    "    for i in np.arange(0,numyears):\n",
    "        H_array[i+1], P_array[i+1], H_harvest_array[i+1], P_harvest_array[i+1] \\\n",
    "            = RK2(H_array[i], P_array[i], parameters_dict)\n",
    "        i = i+1\n",
    "    \n",
    "    return H_array, P_array, H_harvest_array, P_harvest_array"
   ]
  },
  {
   "cell_type": "markdown",
   "metadata": {},
   "source": [
    "## Supplemental Fig 6 - $b$ / $c$ parameter space"
   ]
  },
  {
   "cell_type": "markdown",
   "metadata": {},
   "source": [
    "### Define a function to set to normal params"
   ]
  },
  {
   "cell_type": "code",
   "execution_count": 5,
   "metadata": {},
   "outputs": [],
   "source": [
    "def default_params():\n",
    "    numyears = 1000\n",
    "    #Herbivore parameters:\n",
    "    r_H = 0.4 # growth rate of herbivores\n",
    "    K_H = 5000 # carrying capacity of herbivores\n",
    "    theta_H = 50 # immigration of herbivores\n",
    "    c = 0.4 #additional mortality of H \n",
    "    d = 500 # value of H when predation half its max value \n",
    "    q_H = 1. # proportionality constant for herbivore harvest \n",
    "    E_H = 0.0 # Effort for herbivore harvest (0.05 = limit cycle, 0.2 = stable state)\n",
    "    #Predator parameters:\n",
    "    r_P = 0.2 # growth rate of predator \n",
    "    K_P = 2000 # carrying capactiy of predators\n",
    "    b = 0.4 # additional growth of P due to H\n",
    "    theta_P = 10 # immigration of predators \n",
    "    q_P = 1. # proportionality constant for predator harvest \n",
    "    E_P = 0.0 # Effort for predator harvest\n",
    "\n",
    "    parameters_dict = {'numyears': numyears, \n",
    "                  'r_H': r_H, \n",
    "                  'K_H': K_H, \n",
    "                  'theta_H': theta_H,\n",
    "                  'c': c, \n",
    "                  'd': d, \n",
    "                  'E_H': E_H,\n",
    "                  'q_H': q_H, \n",
    "                  'r_P': r_P,\n",
    "                  'K_P': K_P,\n",
    "                  'theta_P': theta_P, \n",
    "                  'b': b,\n",
    "                  'q_P': q_P, \n",
    "                  'E_P': E_P,\n",
    "                  }\n",
    "\n",
    "    return parameters_dict"
   ]
  },
  {
   "cell_type": "code",
   "execution_count": 6,
   "metadata": {},
   "outputs": [],
   "source": [
    "#Run model simulation; set params to default\n",
    "parameters_dict = default_params()\n",
    "\n",
    "#numyears = 100\n",
    "H0 = 100\n",
    "P0 = 10\n",
    "\n",
    "H_array, P_array, H_harvest_array, P_harvest_array = run_model(H0, P0, parameters_dict)"
   ]
  },
  {
   "cell_type": "markdown",
   "metadata": {},
   "source": [
    "## Supplemental Fig 6 - Qualitative outcomes across $b$ and $c$ values"
   ]
  },
  {
   "cell_type": "code",
   "execution_count": 7,
   "metadata": {},
   "outputs": [],
   "source": [
    "size = 500\n",
    "tail_length = 100\n",
    "b_array = np.linspace(0, 1.0, size)\n",
    "c_array = np.linspace(0, 1.0, size)\n",
    "E_P_values = [0.1, 0.2, 0.3, 0.4]\n",
    "\n",
    "# Define a small threshold for near-zero values\n",
    "predator_extinction = 10\n",
    "prey_extinction = 50"
   ]
  },
  {
   "cell_type": "code",
   "execution_count": 8,
   "metadata": {},
   "outputs": [],
   "source": [
    "def detect_cycles(ts, min_peaks=2, min_amplitude=10, tail_length=100):\n",
    "    ts = np.asarray(ts)[-tail_length:]\n",
    "    if (np.max(ts) - np.min(ts)) < min_amplitude:\n",
    "        return False\n",
    "    ts_centered = ts - np.mean(ts)\n",
    "    peaks, _ = find_peaks(ts_centered, height=min_amplitude / 2)\n",
    "    troughs, _ = find_peaks(-ts_centered, height=min_amplitude / 2)\n",
    "    return (len(peaks) >= min_peaks) and (len(troughs) >= min_peaks)"
   ]
  },
  {
   "cell_type": "code",
   "execution_count": 9,
   "metadata": {},
   "outputs": [],
   "source": [
    "def compute_main_panel():\n",
    "    region_data = np.zeros((size, size))\n",
    "    H_last = np.zeros((size, size))\n",
    "    P_last = np.zeros((size, size))\n",
    "    mask_cycles_H = np.zeros((size, size), dtype=bool)\n",
    "    mask_cycles_P = np.zeros((size, size), dtype=bool)\n",
    "\n",
    "    for i in range(size):\n",
    "        for j in range(size):\n",
    "            b = b_array[i]\n",
    "            c = c_array[j]\n",
    "            #params = default_params()\n",
    "            parameters_dict['b'] = b\n",
    "            parameters_dict['c'] = c\n",
    "            parameters_dict['E_P'] = 0.0\n",
    "\n",
    "            H, P, *_ = run_model(H0, P0, parameters_dict)\n",
    "            H_tail, P_tail = H[-tail_length:], P[-tail_length:]\n",
    "            H_last[i, j], P_last[i, j] = np.mean(H_tail), np.mean(P_tail)\n",
    "\n",
    "            mask_cycles_H[i, j] = detect_cycles(H_tail)\n",
    "            mask_cycles_P[i, j] = detect_cycles(P_tail)\n",
    "\n",
    "    mask_P_dom = (H_last < prey_extinction) & (P_last > predator_extinction)\n",
    "    mask_H_dom = (P_last < predator_extinction) & (H_last > prey_extinction)\n",
    "    mask_extinct = (H_last < prey_extinction) & (P_last < predator_extinction)\n",
    "    mask_coexist = (H_last > prey_extinction) & (P_last > predator_extinction)\n",
    "\n",
    "    region_data[mask_extinct] = 1\n",
    "    region_data[mask_P_dom] = 2\n",
    "    region_data[mask_H_dom] = 3\n",
    "    region_data[mask_coexist] = 4\n",
    "\n",
    "    return region_data, mask_cycles_H & mask_coexist, mask_cycles_P & mask_coexist"
   ]
  },
  {
   "cell_type": "code",
   "execution_count": 10,
   "metadata": {},
   "outputs": [],
   "source": [
    "def compute_EP_slice(E_P_val):\n",
    "    region_data_EP = np.zeros((size, size))\n",
    "    H_last = np.zeros((size, size))\n",
    "    P_last = np.zeros((size, size))\n",
    "    mask_cycles_H = np.zeros((size, size), dtype=bool)\n",
    "    mask_cycles_P = np.zeros((size, size), dtype=bool)\n",
    "\n",
    "    for i in range(size):\n",
    "        for j in range(size):\n",
    "            b = b_array[i]\n",
    "            c = c_array[j]\n",
    "            parameters_dict = default_params()\n",
    "            parameters_dict['b'] = b\n",
    "            parameters_dict['c'] = c\n",
    "            parameters_dict['E_P'] = E_P_val\n",
    "\n",
    "            H, P, *_ = run_model(H0, P0, parameters_dict)\n",
    "            H_tail, P_tail = H[-tail_length:], P[-tail_length:]\n",
    "            H_last[i, j] = np.mean(H_tail)\n",
    "            P_last[i, j] = np.mean(P_tail)\n",
    "\n",
    "            mask_cycles_H[i, j] = detect_cycles(H_tail)\n",
    "            mask_cycles_P[i, j] = detect_cycles(P_tail)\n",
    "\n",
    "    # Define ecological state masks\n",
    "    mask_P_dom = (H_last < prey_extinction) & (P_last > predator_extinction)\n",
    "    mask_H_dom = (P_last < predator_extinction) & (H_last > prey_extinction)\n",
    "    mask_extinct = (H_last < prey_extinction) & (P_last < predator_extinction)\n",
    "    mask_coexist = (H_last > prey_extinction) & (P_last > predator_extinction)\n",
    "\n",
    "    # Assign region values\n",
    "    region_data_EP[mask_extinct] = 1\n",
    "    region_data_EP[mask_P_dom] = 2\n",
    "    region_data_EP[mask_H_dom] = 3\n",
    "    region_data_EP[mask_coexist] = 4\n",
    "\n",
    "    # Constrain cycles to coexistence regions only\n",
    "    constrained_mask_H = mask_cycles_H & mask_coexist\n",
    "    constrained_mask_P = mask_cycles_P & mask_coexist\n",
    "\n",
    "    return region_data_EP, constrained_mask_H, constrained_mask_P, H_last, P_last"
   ]
  },
  {
   "cell_type": "code",
   "execution_count": 11,
   "metadata": {},
   "outputs": [],
   "source": [
    "def plot_combined(region_main, cycles_H_main, cycles_P_main, EP_panels, b_array, c_array):\n",
    "    # Define colormap and normalization\n",
    "    cmap = ListedColormap(['white', 'gray', 'purple', 'green', 'lightblue'])  # 0=empty, 1=extinct, 2=predator-only, etc.\n",
    "    bounds = [0, 1, 2, 3, 4, 5]\n",
    "    norm = BoundaryNorm(bounds, ncolors=len(cmap.colors))\n",
    "\n",
    "    c_grid, b_grid = np.meshgrid(c_array, b_array)\n",
    "\n",
    "    fig = plt.figure(figsize=(14, 12))\n",
    "    gs = GridSpec(2, 4, height_ratios=[1.5, 1], figure=fig)\n",
    "\n",
    "    # --- Top plot (Main panel) ---\n",
    "    ax_main = fig.add_subplot(gs[0, :])\n",
    "    im_main = ax_main.imshow(region_main, cmap=cmap, norm=norm,\n",
    "                             extent=[c_array.min(), c_array.max(), b_array.min(), b_array.max()],\n",
    "                             origin='lower', aspect='auto', alpha=0.5)\n",
    "\n",
    "    ax_main.contourf(c_grid, b_grid, cycles_H_main.astype(int), levels=[0.5, 1.5],\n",
    "                     colors='none', hatches=['////'], alpha=0)\n",
    "    ax_main.contourf(c_grid, b_grid, cycles_P_main.astype(int), levels=[0.5, 1.5],\n",
    "                     colors='none', hatches=['\\\\\\\\'], alpha=0)\n",
    "\n",
    "    ax_main.set_title(\"A. No harvest ($E_P = 0.0$)\", fontsize=18)\n",
    "    ax_main.set_xlabel(\"$c$ values\", fontsize=16)\n",
    "    ax_main.set_ylabel(\"$b$ values\", fontsize=16)\n",
    "\n",
    "    # --- Bottom row (E_P slices) ---\n",
    "    for idx, (region, cyc_H, cyc_P) in enumerate(EP_panels):\n",
    "        ax = fig.add_subplot(gs[1, idx])\n",
    "        ax.imshow(region, cmap=cmap, norm=norm,\n",
    "                  extent=[c_array.min(), c_array.max(), b_array.min(), b_array.max()],\n",
    "                  origin='lower', aspect='auto', alpha=0.5)\n",
    "\n",
    "        ax.contourf(c_grid, b_grid, cyc_H.astype(int), levels=[0.5, 1.5],\n",
    "                    colors='none', hatches=['////'], alpha=0)\n",
    "        ax.contourf(c_grid, b_grid, cyc_P.astype(int), levels=[0.5, 1.5],\n",
    "                    colors='none', hatches=['\\\\\\\\'], alpha=0)\n",
    "\n",
    "        ax.set_title(f\"{chr(66+idx)}. $E_P$ = {E_P_values[idx]}\", fontsize=16)\n",
    "        ax.set_xlabel(\"$c$ values\", fontsize=16)\n",
    "        if idx == 0:\n",
    "            ax.set_ylabel(\"$b$ values\", fontsize=16)\n",
    "\n",
    "    # --- Legend ---\n",
    "    legend_elements = [\n",
    "        mpatches.Patch(color='lightblue', label='Coexistence'),\n",
    "        mpatches.Patch(color='green', label='Prey Only'),\n",
    "        mpatches.Patch(color='purple', label='Predator Only'),\n",
    "        #mpatches.Patch(color='gray', label='Extinction'),\n",
    "        mpatches.Patch(facecolor='white', edgecolor='black', hatch='////', label='Prey Cycles'),\n",
    "        mpatches.Patch(facecolor='white', edgecolor='black', hatch='\\\\\\\\', label='Predator Cycles')\n",
    "    ]\n",
    "    fig.legend(handles=legend_elements, loc='lower center', ncol=6, fontsize=14, frameon=True)\n",
    "\n",
    "    plt.tight_layout(rect=[0, 0.05, 1, 1])\n",
    "    plt.show()\n",
    "    \n",
    "    return fig"
   ]
  },
  {
   "cell_type": "markdown",
   "metadata": {},
   "source": [
    "# Calculations"
   ]
  },
  {
   "cell_type": "markdown",
   "metadata": {},
   "source": [
    "## Top Row"
   ]
  },
  {
   "cell_type": "code",
   "execution_count": 15,
   "metadata": {},
   "outputs": [],
   "source": [
    "# Run the main (E_P = 0.0) simulation\n",
    "region_main, cycles_H_main, cycles_P_main = compute_main_panel()"
   ]
  },
  {
   "cell_type": "markdown",
   "metadata": {},
   "source": [
    "### Save data"
   ]
  },
  {
   "cell_type": "code",
   "execution_count": 30,
   "metadata": {},
   "outputs": [],
   "source": [
    "with open(\"data/main_panel_data.pkl\", \"wb\") as f:\n",
    "    pickle.dump((region_main, cycles_H_main, cycles_P_main), f)"
   ]
  },
  {
   "cell_type": "markdown",
   "metadata": {},
   "source": [
    "## Bottom Row"
   ]
  },
  {
   "cell_type": "code",
   "execution_count": 17,
   "metadata": {},
   "outputs": [],
   "source": [
    "# Run E_P slices for bottom panels\n",
    "EP_panels = []\n",
    "for val in E_P_values:\n",
    "    region, cyc_H, cyc_P, H_last, P_last = compute_EP_slice(val)\n",
    "    EP_panels.append((region, cyc_H, cyc_P))"
   ]
  },
  {
   "cell_type": "markdown",
   "metadata": {},
   "source": [
    "### Save data"
   ]
  },
  {
   "cell_type": "code",
   "execution_count": 31,
   "metadata": {},
   "outputs": [],
   "source": [
    "with open(\"data/ep_panel_data.pkl\", \"wb\") as f:\n",
    "    pickle.dump(EP_panels, f)"
   ]
  },
  {
   "cell_type": "markdown",
   "metadata": {},
   "source": [
    "## Load data if using pre-calculated"
   ]
  },
  {
   "cell_type": "code",
   "execution_count": 12,
   "metadata": {},
   "outputs": [],
   "source": [
    "# Load main panel data\n",
    "with open(\"data/main_panel_data.pkl\", \"rb\") as f:\n",
    "    region_main, cycles_H_main, cycles_P_main = pickle.load(f)\n",
    "\n",
    "# Load E_P panel data\n",
    "with open(\"data/ep_panel_data.pkl\", \"rb\") as f:\n",
    "    EP_panels = pickle.load(f)"
   ]
  },
  {
   "cell_type": "markdown",
   "metadata": {},
   "source": [
    "# Plot"
   ]
  },
  {
   "cell_type": "code",
   "execution_count": 13,
   "metadata": {},
   "outputs": [
    {
     "data": {
      "image/png": "[encoded data removed]",
      "text/plain": [
       "<Figure size 1008x864 with 5 Axes>"
      ]
     },
     "metadata": {
      "needs_background": "light"
     },
     "output_type": "display_data"
    }
   ],
   "source": [
    "figS6 = plot_combined(region_main, cycles_H_main, cycles_P_main, EP_panels, b_array, c_array)\n",
    "\n",
    "# Save\n",
    "figS6.savefig(\"manuscript_figs/S6_b_c_regions.jpg\",\n",
    "              format='jpeg',\n",
    "              dpi=300,\n",
    "              bbox_inches='tight')"
   ]
  },
  {
   "cell_type": "code",
   "execution_count": null,
   "metadata": {},
   "outputs": [],
   "source": []
  },
  {
   "cell_type": "code",
   "execution_count": null,
   "metadata": {},
   "outputs": [],
   "source": []
  },
  {
   "cell_type": "code",
   "execution_count": null,
   "metadata": {},
   "outputs": [],
   "source": []
  },
  {
   "cell_type": "code",
   "execution_count": null,
   "metadata": {},
   "outputs": [],
   "source": []
  },
  {
   "cell_type": "code",
   "execution_count": null,
   "metadata": {},
   "outputs": [],
   "source": []
  },
  {
   "cell_type": "code",
   "execution_count": null,
   "metadata": {},
   "outputs": [],
   "source": []
  },
  {
   "cell_type": "code",
   "execution_count": null,
   "metadata": {},
   "outputs": [],
   "source": []
  },
  {
   "cell_type": "code",
   "execution_count": null,
   "metadata": {},
   "outputs": [],
   "source": []
  },
  {
   "cell_type": "code",
   "execution_count": null,
   "metadata": {},
   "outputs": [],
   "source": []
  },
  {
   "cell_type": "code",
   "execution_count": null,
   "metadata": {},
   "outputs": [],
   "source": []
  }
 ],
 "metadata": {
  "kernelspec": {
   "display_name": "py36test",
   "language": "python",
   "name": "py36test"
  },
  "language_info": {
   "codemirror_mode": {
    "name": "ipython",
    "version": 3
   },
   "file_extension": ".py",
   "mimetype": "text/x-python",
   "name": "python",
   "nbconvert_exporter": "python",
   "pygments_lexer": "ipython3",
   "version": "3.6.10"
  }
 },
 "nbformat": 4,
 "nbformat_minor": 4
}
